{
 "cells": [
  {
   "cell_type": "code",
   "execution_count": 18,
   "metadata": {},
   "outputs": [
    {
     "name": "stdout",
     "output_type": "stream",
     "text": [
      "Using configuration from cafe_config.json\n",
      "Using API Key: rpa_E...\n",
      "Using Base URL: https://api.runpod.ai/v2/ws1sl1jx5qa04h/openai/v1\n",
      "Using Model Name: mistralai/Mistral-7B-Instruct-v0.1\n",
      "\n",
      "Response:\n",
      " Sure! How about a steamy hot chocolate with whipped cream on top and perhaps some cinnamon sprinkled over it for extra flavor?\n"
     ]
    }
   ],
   "source": [
    "import os\n",
    "import json\n",
    "from openai import OpenAI\n",
    "from dotenv import load_dotenv\n",
    "\n",
    "def get_config():\n",
    "    \"\"\"Get configuration from either .env file or JSON config file\"\"\"\n",
    "    # Try to load from .env first\n",
    "    load_dotenv()\n",
    "    \n",
    "    # Check if we have the necessary env variables\n",
    "    env_api_key = os.getenv(\"OPENAI_API_KEY\")\n",
    "    env_base_url = os.getenv(\"OPENAI_BASE_URL\")\n",
    "    env_model_name = os.getenv(\"MODEL_NAME\")\n",
    "    \n",
    "    # Check if .env has the correct base URL (the one we know works)\n",
    "    correct_base_url = \"https://api.runpod.ai/v2/ws1sl1jx5qa04h/openai/v1\"\n",
    "    \n",
    "    # If we have all env variables and the base URL is correct, use those\n",
    "    if env_api_key and env_base_url == correct_base_url and env_model_name:\n",
    "        print(\"Using configuration from environment variables\")\n",
    "        return {\n",
    "            \"api_key\": env_api_key,\n",
    "            \"base_url\": env_base_url,\n",
    "            \"model_name\": env_model_name\n",
    "        }\n",
    "    \n",
    "    # Otherwise, try to load from config file\n",
    "    try:\n",
    "        with open('cafe_config.json', 'r') as f:\n",
    "            config = json.load(f)\n",
    "            print(\"Using configuration from cafe_config.json\")\n",
    "            return config\n",
    "    except FileNotFoundError:\n",
    "        # If config file doesn't exist, create it with hardcoded values\n",
    "        config = {\n",
    "            \"api_key\": \"rpa_EKYXL1LIFLWMBWI6C01XQRZDTOJE414183XOUN4G5viq6i\",\n",
    "            \"base_url\": \"https://api.runpod.ai/v2/ws1sl1jx5qa04h/openai/v1\",\n",
    "            \"model_name\": \"mistralai/Mistral-7B-Instruct-v0.1\"\n",
    "        }\n",
    "        \n",
    "        with open('cafe_config.json', 'w') as f:\n",
    "            json.dump(config, f, indent=2)\n",
    "        \n",
    "        print(\"Created new cafe_config.json with default values\")\n",
    "        return config\n",
    "\n",
    "def ask_cafe_assistant(prompt, system_message=\"You are a helpful assistant at a café.\"):\n",
    "    \"\"\"Get a response from the café assistant model\"\"\"\n",
    "    # Get configuration\n",
    "    config = get_config()\n",
    "    \n",
    "    # Print what we're using\n",
    "    print(f\"Using API Key: {config['api_key'][:5]}...\")\n",
    "    print(f\"Using Base URL: {config['base_url']}\")\n",
    "    print(f\"Using Model Name: {config['model_name']}\")\n",
    "    \n",
    "    # Initialize the client\n",
    "    client = OpenAI(\n",
    "        api_key=config[\"api_key\"],\n",
    "        base_url=config[\"base_url\"]\n",
    "    )\n",
    "    \n",
    "    # Make the request\n",
    "    try:\n",
    "        response = client.chat.completions.create(\n",
    "            model=config[\"model_name\"],\n",
    "            messages=[\n",
    "                {\"role\": \"system\", \"content\": system_message},\n",
    "                {\"role\": \"user\", \"content\": prompt}\n",
    "            ],\n",
    "            temperature=0.7,\n",
    "            max_tokens=150\n",
    "        )\n",
    "        \n",
    "        return response.choices[0].message.content\n",
    "    except Exception as e:\n",
    "        print(f\"Error: {str(e)}\")\n",
    "        return f\"Error: {str(e)}\"\n",
    "\n",
    "# Example usage\n",
    "if __name__ == \"__main__\":\n",
    "    prompt = \"Suggest a hot and sweet drink!\"\n",
    "    response = ask_cafe_assistant(prompt)\n",
    "    print(\"\\nResponse:\")\n",
    "    print(response)"
   ]
  },
  {
   "cell_type": "code",
   "execution_count": null,
   "metadata": {},
   "outputs": [
    {
     "ename": "AttributeError",
     "evalue": "'dict' object has no attribute 'status_code'",
     "output_type": "error",
     "traceback": [
      "\u001b[1;31m---------------------------------------------------------------------------\u001b[0m",
      "\u001b[1;31mAttributeError\u001b[0m                            Traceback (most recent call last)",
      "Cell \u001b[1;32mIn[17], line 1\u001b[0m\n\u001b[1;32m----> 1\u001b[0m \u001b[38;5;28mprint\u001b[39m(\u001b[38;5;124m\"\u001b[39m\u001b[38;5;124mStatus code:\u001b[39m\u001b[38;5;124m\"\u001b[39m, \u001b[43mresponse\u001b[49m\u001b[38;5;241;43m.\u001b[39;49m\u001b[43mstatus_code\u001b[49m)\n\u001b[0;32m      2\u001b[0m \u001b[38;5;28mprint\u001b[39m(\u001b[38;5;124m\"\u001b[39m\u001b[38;5;124mRaw response text:\u001b[39m\u001b[38;5;124m\"\u001b[39m, response\u001b[38;5;241m.\u001b[39mtext)\n",
      "\u001b[1;31mAttributeError\u001b[0m: 'dict' object has no attribute 'status_code'"
     ]
    }
   ],
   "source": []
  },
  {
   "cell_type": "code",
   "execution_count": null,
   "metadata": {},
   "outputs": [],
   "source": []
  }
 ],
 "metadata": {
  "kernelspec": {
   "display_name": "cafe",
   "language": "python",
   "name": "python3"
  },
  "language_info": {
   "codemirror_mode": {
    "name": "ipython",
    "version": 3
   },
   "file_extension": ".py",
   "mimetype": "text/x-python",
   "name": "python",
   "nbconvert_exporter": "python",
   "pygments_lexer": "ipython3",
   "version": "3.10.0"
  }
 },
 "nbformat": 4,
 "nbformat_minor": 2
}
